{
 "cells": [
  {
   "cell_type": "markdown",
   "metadata": {},
   "source": [
    "## Process 19F NMR spectra\n",
    "#### You need:\n",
    "- The data from the spectrometer\n",
    "#### You will:\n",
    "1) Import the 1H Bruker data\n",
    "2) Use the 1H spectrum to reference\n",
    "3) Import the 19F Bruker data\n",
    "    - Optionally sum multiple spectra into a single spectrum\n",
    "4) Baseline the spectrum by fitting a fourth-order polynomial\n",
    "5) Fit a Lorentzian function to each peak\n",
    "6) Produce a plot"
   ]
  },
  {
   "cell_type": "markdown",
   "metadata": {},
   "source": [
    "Firstly you need to make sure that Python and the required libraries are installed.\n",
    "\n",
    "To install Python (latest version): \n",
    "- Mac https://www.python.org/downloads/macos/\n",
    "- Windows https://www.python.org/downloads/windows/\n",
    "\n",
    "To install the libraries type this in your terminal:\n",
    "`pip install numpy matplotlib scipy nmrglue ipywidgets`\n",
    "\n",
    "Now you can import the libraries by clicking the arrow to the left of the cell below"
   ]
  },
  {
   "cell_type": "code",
   "execution_count": 2,
   "metadata": {},
   "outputs": [
    {
     "name": "stdout",
     "output_type": "stream",
     "text": [
      "Import OK\n"
     ]
    }
   ],
   "source": [
    "# Import libraries\n",
    "import nmrglue as ng # This is for processing the Bruker data\n",
    "import matplotlib.pyplot as plt # This is for making the plots\n",
    "import numpy as np # This is for polynomial fitting\n",
    "from scipy.optimize import curve_fit # This is for Lorentzian fitting\n",
    "import ipywidgets as widgets # This is for the interactive parts\n",
    "from ipywidgets import interact\n",
    "print(\"Import OK\")"
   ]
  },
  {
   "cell_type": "markdown",
   "metadata": {},
   "source": [
    "If the libraries imported OK, you can proceed.\n",
    "\n",
    "Now you will import your 1H spectrum for referencing. \n",
    "- Locate the NMR data on your computer\n",
    "- The first experiment, folder `1`, contains the acquisition data\n",
    "- The data is stored in a file called `fid` with no extension\n",
    "- Provide the path to folder `1` in the cell below. Do not delete the quotation marks\n",
    "- Run the cell\n",
    "\n",
    "To get the path, right-click the folder in Finder/File explorer, then hold Option/Shift and click `Copy pathname`"
   ]
  },
  {
   "cell_type": "markdown",
   "metadata": {},
   "source": [
    "First step is to reference the 1H spectrum by aligning the DSS peak to 0 ppm. The amount you reference the 1H spectrum by is multiplied by 0.94 to reference the 19F spectrum (ratio of gyromagnetic ratios).\n",
    "\n",
    "Set the path below to folder 2 of your data from the spectrometer and run the cell:"
   ]
  },
  {
   "cell_type": "code",
   "execution_count": 3,
   "metadata": {},
   "outputs": [],
   "source": [
    "h_path = \"./test_data/2\""
   ]
  },
  {
   "cell_type": "markdown",
   "metadata": {},
   "source": [
    "Before referencing the spectrum, you need to Fourier transform (automatic) and phase correct. Adjust the slider until the peaks are symmetrical."
   ]
  },
  {
   "cell_type": "code",
   "execution_count": null,
   "metadata": {},
   "outputs": [
    {
     "data": {
      "application/vnd.jupyter.widget-view+json": {
       "model_id": "d30bd3b1687c4f5cb7bc1f0a94323c55",
       "version_major": 2,
       "version_minor": 0
      },
      "text/plain": [
       "interactive(children=(FloatSlider(value=-25.0, description='p0', max=70.0, min=-70.0, readout_format='.1f', st…"
      ]
     },
     "metadata": {},
     "output_type": "display_data"
    }
   ],
   "source": [
    "# Run this cell to read the data\n",
    "\n",
    "@interact(\n",
    "    p0=widgets.FloatSlider(min=-70, max=70, step=0.5, value=-25, description=\"p0\", readout_format=\".1f\"),\n",
    "    offset=widgets.FloatSlider(min=-0.1, max=0.1, step=0.001, value=0.0, description=\"Offset\", readout_format=\".3f\")\n",
    ")\n",
    "def proc_1h(p0=0, offset=0.0):\n",
    "    p0_in = p0\n",
    "    dic, data = ng.bruker.read(h_path)\n",
    "    data = ng.bruker.remove_digital_filter(dic, data)\n",
    "\n",
    "    data = ng.proc_base.zf_size(data, 32768)    # zero fill to 32768 points\n",
    "    data = ng.proc_base.fft(data)               # Fourier transform\n",
    "    data = ng.proc_base.ps(data, p0=p0_in)      # phase correction\n",
    "    data = ng.proc_base.di(data)                # discard the imaginaries\n",
    "    data = ng.proc_base.rev(data) \n",
    "\n",
    "    udic = ng.bruker.guess_udic(dic, data)\n",
    "    uc = ng.fileiobase.uc_from_udic(udic)\n",
    "    ppm_scale = uc.ppm_scale()\n",
    "    ppm_scale = uc.ppm_scale() - offset\n",
    "    plt.figure(figsize=(5, 5))\n",
    "    plt.plot(ppm_scale, data, color='b')\n",
    "    plt.xlabel(\"Chemical Shift (ppm)\")\n",
    "    plt.ylabel(\"Intensity\")\n",
    "    plt.title(\"1H NMR Spectrum\")\n",
    "    plt.xlim(-1, 2)\n",
    "    plt.axvline(x=0, color='lightgrey', linestyle='--', linewidth=0.5)\n",
    "    y_min, y_max = min(data), max(data)\n",
    "    zoom_factor = 2  # Adjust this to zoom in/out\n",
    "    plt.ylim(y_min / zoom_factor, y_max / zoom_factor)\n",
    "    plt.gca().invert_xaxis()\n",
    "\n"
   ]
  },
  {
   "cell_type": "markdown",
   "metadata": {},
   "source": [
    "Enter the offset value here and run the cell:"
   ]
  },
  {
   "cell_type": "code",
   "execution_count": 9,
   "metadata": {},
   "outputs": [],
   "source": [
    "ref_offset = -0.068"
   ]
  },
  {
   "cell_type": "markdown",
   "metadata": {},
   "source": [
    "Now you will load the 19F data. Enter the numbers of the first and last experiments below then run the cell. If you only have one experiment set the same number for both."
   ]
  },
  {
   "cell_type": "code",
   "execution_count": null,
   "metadata": {},
   "outputs": [],
   "source": [
    "first_exp = 3\n",
    "last_exp = 30"
   ]
  }
 ],
 "metadata": {
  "kernelspec": {
   "display_name": "Python 3",
   "language": "python",
   "name": "python3"
  },
  "language_info": {
   "codemirror_mode": {
    "name": "ipython",
    "version": 3
   },
   "file_extension": ".py",
   "mimetype": "text/x-python",
   "name": "python",
   "nbconvert_exporter": "python",
   "pygments_lexer": "ipython3",
   "version": "3.12.0"
  }
 },
 "nbformat": 4,
 "nbformat_minor": 2
}
