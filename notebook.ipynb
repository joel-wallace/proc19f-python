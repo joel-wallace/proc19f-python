{
 "cells": [
  {
   "cell_type": "markdown",
   "metadata": {},
   "source": [
    "## Process 19F NMR spectra\n",
    "#### You need:\n",
    "- The data from the spectrometer\n",
    "#### You will:\n",
    "1) Import the 1H Bruker data\n",
    "2) Use the 1H spectrum to reference\n",
    "3) Import the 19F Bruker data\n",
    "    - Optionally sum multiple spectra into a single spectrum\n",
    "4) Baseline the spectrum by fitting a fourth-order polynomial\n",
    "5) Fit a Lorentzian function to each peak\n",
    "6) Produce a plot"
   ]
  },
  {
   "cell_type": "markdown",
   "metadata": {},
   "source": [
    "Firstly you need to make sure that Python and the required libraries are installed.\n",
    "\n",
    "To install Python (latest version): \n",
    "- Mac https://www.python.org/downloads/macos/\n",
    "- Windows https://www.python.org/downloads/windows/\n",
    "\n",
    "To install the libraries type this in your terminal:\n",
    "`pip install numpy matplotlib scipy nmrglue ipywidgets`\n",
    "\n",
    "Now you can import the libraries by clicking the arrow to the left of the cell below"
   ]
  },
  {
   "cell_type": "code",
   "execution_count": 1,
   "metadata": {},
   "outputs": [
    {
     "name": "stdout",
     "output_type": "stream",
     "text": [
      "Import OK\n"
     ]
    }
   ],
   "source": [
    "# Import libraries\n",
    "import nmrglue as ng # This is for processing the Bruker data\n",
    "import matplotlib.pyplot as plt # This is for making the plots\n",
    "import numpy as np # This is for polynomial fitting\n",
    "from scipy.optimize import curve_fit # This is for Lorentzian fitting\n",
    "import ipywidgets as widgets # This is for the interactive parts\n",
    "from ipywidgets import interact\n",
    "import jupyterlab_widgets\n",
    "print(\"Import OK\")"
   ]
  },
  {
   "cell_type": "markdown",
   "metadata": {},
   "source": [
    "If the libraries imported OK, you can proceed.\n",
    "\n",
    "Now you will import your 1H spectrum for referencing. \n",
    "- Locate the NMR data on your computer\n",
    "- The first experiment, folder `1`, contains the acquisition data\n",
    "- The data is stored in a file called `fid` with no extension\n",
    "- Provide the path to folder `1` in the cell below. Do not delete the quotation marks\n",
    "- Run the cell\n",
    "\n",
    "To get the path, right-click the folder in Finder/File explorer, then hold Option/Shift and click `Copy pathname`"
   ]
  },
  {
   "cell_type": "markdown",
   "metadata": {},
   "source": [
    "First step is to reference the 1H spectrum by aligning the DSS peak to 0 ppm. The amount you reference the 1H spectrum by is multiplied by 0.94 to reference the 19F spectrum (ratio of gyromagnetic ratios).\n",
    "\n",
    "Set the path below to folder 2 of your data from the spectrometer and run the cell:"
   ]
  },
  {
   "cell_type": "code",
   "execution_count": 2,
   "metadata": {},
   "outputs": [],
   "source": [
    "data_path = \"/home/joelw/nmr/data/fln5/julian_19F_rnc_plus34_WT_25deg_110223\"\n",
    "h_exp_num = 2\n",
    "sample_conc = 20.9 # 70S concentration in uM"
   ]
  },
  {
   "cell_type": "markdown",
   "metadata": {},
   "source": [
    "Before referencing the spectrum, you need to Fourier transform (automatic) and phase correct.\n",
    "\n",
    "Adjust the p0 slider until the DSS peak is symmetrical, then adjust the offset until the DSS peak aligns with the line at 0 ppm."
   ]
  },
  {
   "cell_type": "code",
   "execution_count": 3,
   "metadata": {},
   "outputs": [
    {
     "data": {
      "application/vnd.jupyter.widget-view+json": {
       "model_id": "50e2112b2e584df0bc159aa44eaa5897",
       "version_major": 2,
       "version_minor": 0
      },
      "text/plain": [
       "interactive(children=(FloatSlider(value=-25.0, description='p0', max=70.0, min=-70.0, readout_format='.1f', st…"
      ]
     },
     "metadata": {},
     "output_type": "display_data"
    }
   ],
   "source": [
    "# Run this cell to read the data\n",
    "\n",
    "@interact(\n",
    "    p0=widgets.FloatSlider(min=-70, max=70, step=0.5, value=-25, description=\"p0\", readout_format=\".1f\"),\n",
    "    offset=widgets.FloatSlider(min=-0.1, max=0.1, step=0.001, value=0.0, description=\"Offset\", readout_format=\".3f\"),\n",
    "    zoomed=widgets.ToggleButton(value=False,description=\"Zoom to DSS\")\n",
    ")\n",
    "def proc_1h(p0=0, offset=0.0, zoomed=False):\n",
    "    import os\n",
    "    p0_in = p0\n",
    "    h_path = os.path.join(data_path, str(h_exp_num))\n",
    "    dic, data = ng.bruker.read(h_path)\n",
    "    data = ng.bruker.remove_digital_filter(dic, data)\n",
    "\n",
    "    data = ng.proc_base.zf_size(data, 32768)    # zero fill to 32768 points\n",
    "    data = ng.proc_base.fft(data)               # Fourier transform\n",
    "    data = ng.proc_base.ps(data, p0=p0_in)      # phase correction\n",
    "    data = ng.proc_base.di(data)                # discard the imaginaries\n",
    "    data = ng.proc_base.rev(data)\n",
    "    # Number of 1H scans:\n",
    "    ns = 32\n",
    "    data = data / (ns * sample_conc)\n",
    "\n",
    "    udic = ng.bruker.guess_udic(dic, data)\n",
    "    uc = ng.fileiobase.uc_from_udic(udic)\n",
    "    ppm_scale = uc.ppm_scale()\n",
    "    ppm_scale = uc.ppm_scale() - offset\n",
    "    plt.figure(figsize=(5, 5))\n",
    "    plt.plot(ppm_scale, data, color='b', linewidth=0.8)\n",
    "    plt.xlabel(\"Chemical Shift (ppm)\")\n",
    "    plt.ylabel(\"Intensity\")\n",
    "    plt.title(\"1H NMR Spectrum\")\n",
    "    if zoomed:\n",
    "        plt.xlim(-0.25,0.25)\n",
    "    else:\n",
    "        plt.xlim(-1,12)\n",
    "    plt.axvline(x=0, color='red', linestyle='-', linewidth=0.1)\n",
    "    y_min, y_max = min(data), max(data)\n",
    "    zoom_factor = 5  # Adjust this to zoom in/out\n",
    "    plt.ylim(y_min / zoom_factor, y_max / zoom_factor)\n",
    "    plt.gca().invert_xaxis()\n",
    "\n"
   ]
  },
  {
   "cell_type": "markdown",
   "metadata": {},
   "source": [
    "Enter the offset value here and run the cell:"
   ]
  },
  {
   "cell_type": "code",
   "execution_count": 4,
   "metadata": {},
   "outputs": [],
   "source": [
    "ref_offset = -0.062"
   ]
  },
  {
   "cell_type": "markdown",
   "metadata": {},
   "source": [
    "Now you will load the 19F data. \n",
    "\n",
    "Enter the path to your 19F experiments then enter the numbers of the first and last experiments below then run the cell. If you only have one experiment set the same number for both."
   ]
  },
  {
   "cell_type": "code",
   "execution_count": 71,
   "metadata": {},
   "outputs": [],
   "source": [
    "first_f_exp = 3\n",
    "last_f_exp = 25\n",
    "scans_per_exp = 1024\n",
    "nascent_chain_conc = 20.9 # In uM"
   ]
  },
  {
   "cell_type": "code",
   "execution_count": 72,
   "metadata": {},
   "outputs": [
    {
     "data": {
      "image/png": "[encoded data removed]",
      "text/plain": [
       "<Figure size 600x300 with 1 Axes>"
      ]
     },
     "metadata": {},
     "output_type": "display_data"
    }
   ],
   "source": [
    "summed_data = None\n",
    "ppm_scale = None\n",
    "\n",
    "def read_19f():\n",
    "    global summed_data, ppm_scale \n",
    "    for exp in range(first_f_exp, last_f_exp + 1):\n",
    "        import os\n",
    "        dic, data = ng.bruker.read_pdata(os.path.join(data_path, str(exp), \"pdata\", \"1\"))\n",
    "\n",
    "\n",
    "        if summed_data is None:\n",
    "            summed_data = data\n",
    "        else: summed_data += data\n",
    "\n",
    "        if ppm_scale is None:\n",
    "            udic = ng.bruker.guess_udic(dic, data)\n",
    "            uc = ng.fileiobase.uc_from_udic(udic)\n",
    "            ppm_scale = uc.ppm_scale() - ref_offset\n",
    "    summed_data = summed_data / ((last_f_exp - first_f_exp + 1) * scans_per_exp * nascent_chain_conc)\n",
    "    \n",
    "read_19f()\n",
    "fig, ax = plt.subplots(figsize=(6,3))\n",
    "ax.plot(ppm_scale, summed_data, color=\"green\", lw=1)\n",
    "ax.set_xlabel(\"Chemical shift (ppm)\")\n",
    "ax.invert_xaxis()\n",
    "plt.show()"
   ]
  },
  {
   "cell_type": "markdown",
   "metadata": {},
   "source": [
    "Now you will baseline the data by fitting a polynomial to the region between -55 and -75 ppm, exluding the range with peaks (-60 to -65 ppm). Run the code cell below:"
   ]
  },
  {
   "cell_type": "code",
   "execution_count": 73,
   "metadata": {},
   "outputs": [
    {
     "data": {
      "image/png": "[encoded data removed]",
      "text/plain": [
       "<Figure size 400x200 with 2 Axes>"
      ]
     },
     "metadata": {},
     "output_type": "display_data"
    }
   ],
   "source": [
    "# Baseline\n",
    "ppm_axis = ppm_scale[30000:37000]\n",
    "data_axis = summed_data[30000:37000]\n",
    "\n",
    "# Identify points outside the -60 to -65 ppm range for fitting\n",
    "mask = (ppm_axis < -60) & (ppm_axis > -65)  # Mask for exclusion\n",
    "\n",
    "# Baseline selection (only using points outside the exclusion zone)\n",
    "ppm_baseline = ppm_axis[~mask]\n",
    "data_baseline = data_axis[~mask]\n",
    "\n",
    "# Fit a polynomial (degree 3)\n",
    "degree = 4\n",
    "coeffs = np.polyfit(ppm_baseline, data_baseline, degree)\n",
    "\n",
    "# Evaluate baseline fit\n",
    "baseline_fit = np.polyval(coeffs, ppm_axis)\n",
    "\n",
    "# Apply baseline correction\n",
    "corrected_data = data_axis - baseline_fit\n",
    "\n",
    "# Create side-by-side plots\n",
    "fig, axes = plt.subplots(1, 2, figsize=(4, 2), sharey=True)  # Same height, small width\n",
    "\n",
    "# Left plot: Original data with baseline fit\n",
    "axes[0].plot(ppm_axis, data_axis, color=\"blue\")\n",
    "axes[0].plot(ppm_axis[mask], data_axis[mask], 'ro')  # Red points\n",
    "axes[0].plot(ppm_axis, baseline_fit, '--', color=\"yellow\")\n",
    "axes[0].set_title(\"Original\")\n",
    "\n",
    "# Right plot: Baseline-corrected spectrum\n",
    "axes[1].plot(ppm_axis, corrected_data, color=\"blue\")\n",
    "axes[1].set_title(\"Baselined\")\n",
    "\n",
    "axes[1].invert_xaxis()\n",
    "axes[0].invert_xaxis()\n",
    "\n",
    "plt.tight_layout()  # Adjust spacing for small figure\n",
    "plt.show()"
   ]
  },
  {
   "cell_type": "code",
   "execution_count": 74,
   "metadata": {},
   "outputs": [],
   "source": [
    "def fit_lorentzian_curves(ppm_axis, corrected_data, ppm_guesses):\n",
    "    num_peaks = len(ppm_guesses)\n",
    "    print(\"num_peaks:\", str(num_peaks))\n",
    "    def lorentzian(x, A, x0, gamma):\n",
    "        return A * (gamma**2 / ((x - x0)**2 + gamma**2))\n",
    "\n",
    "    def lorentzians(x, *params):\n",
    "        y = np.zeros_like(x)\n",
    "        for i in range(0, len(params), 3):\n",
    "            A, x0, gamma = params[i:i+3]\n",
    "            y += lorentzian(x, A, x0, gamma)\n",
    "        return y\n",
    "\n",
    "    p0 = []\n",
    "    for i in range(num_peaks):\n",
    "        if i < 2:\n",
    "            A_guess = max(corrected_data)\n",
    "        else:\n",
    "            A_guess = max(corrected_data)/10    # Height\n",
    "        x0_guess = ppm_guesses[i]    # Position\n",
    "        gamma_guess = 0.2 # Pretty much always works\n",
    "        p0.extend([A_guess, x0_guess, gamma_guess])\n",
    "\n",
    "    # Perform curve fitting\n",
    "    popt, _ = curve_fit(lorentzians, ppm_axis, corrected_data, p0=p0)\n",
    "    print(popt)\n",
    "\n",
    "    lorentzian_curves = []\n",
    "    fit_areas = []\n",
    "    total_area = 0\n",
    "    for i in range(0, num_peaks*3, 3):\n",
    "        lorentzian_curves.append((ppm_axis, lorentzian(ppm_axis, popt[i], popt[i+1], popt[i+2])))\n",
    "        area = popt[i] * np.pi * abs(popt[i+2])\n",
    "        fit_areas.append(area)\n",
    "        total_area += area\n",
    "\n",
    "    j = 0\n",
    "    for i in range(0, num_peaks*3, 3):\n",
    "        population = fit_areas[j] / total_area\n",
    "        print(f\"Peak {j+1}:\\n\\t{round(popt[i+1], 2)} ppm; {round(abs(popt[i+2]) * 2 * 470.611, 2)} Hz; Population: {round(population, 3)}\")\n",
    "        j += 1\n",
    "    # Extract fitted parameters\n",
    "    # A_fit, x0_fit, gamma_fit = popt\n",
    "    # lorentzian_fit = lorentzian(ppm_axis, A_fit, x0_fit, gamma_fit)\n",
    "\n",
    "    return lorentzian_curves\n",
    "\n",
    "\n",
    "# --- Plotting Function ---\n",
    "def plot_peak_fit_results(ppm_axis, original_data, individual_fits, peak_colors_for_plot):\n",
    "    \"\"\"\n",
    "    Plots the original data, fitted curves (with specified colors), and residuals.\n",
    "    \"\"\"\n",
    "    fig, (ax1, ax2) = plt.subplots(2, 1, figsize=(12, 8), sharex=True, \n",
    "                                   gridspec_kw={'height_ratios': [3, 1]})\n",
    "    \n",
    "    total_fit = None\n",
    "    for fit in individual_fits:\n",
    "        if total_fit is None:\n",
    "            total_fit = np.array(fit)\n",
    "        else: total_fit += np.array(fit)\n",
    "\n",
    "    # Top plot: Data and fits\n",
    "    ax1.plot(ppm_axis, original_data, color='grey', label='Original Data', linewidth=1)\n",
    "\n",
    "    for i in range(len(individual_fits)):\n",
    "        color = peak_colors_for_plot[i] if i < len(peak_colors_for_plot) else 'black' # Fallback color\n",
    "        ax1.plot(ppm_axis, individual_fits[i][1], linewidth=1.5, color=color)\n",
    "\n",
    "    ax1.set_ylabel('Intensity')\n",
    "    ax1.set_xlim(-60, -65)\n",
    "\n",
    "    residuals = original_data - total_fit[1] #- overall_fit\n",
    "    ax2.plot(ppm_axis, residuals, color='orange', label='Residuals', linewidth=1)\n",
    "    ax2.axhline(0, color='black', linestyle='--', linewidth=1)\n",
    "    ax2.set_xlabel('Chemical Shift (ppm)')\n",
    "    ax2.set_ylabel('Residuals')\n",
    "    ax2.grid(True, linestyle=':', alpha=0.5)\n",
    "    ax2.legend(loc='best', fontsize='small')\n",
    "\n",
    "    # Determine plot x-limits based on fitted peaks for better visualizatio\n",
    "\n",
    "    plt.tight_layout(pad=1.0)\n",
    "    plt.show()\n",
    "\n",
    "# --- UI Creation ---\n",
    "fit_controls_vbox_elements = []\n",
    "num_peak_controls = 4 \n",
    "peak_colors_default = [\"#FF577F\", \"#007BFF\", \"#32CD32\", \"#FFD700\"] # Added more default colors\n",
    "all_created_widgets = [] \n",
    "\n",
    "for i in range(num_peak_controls):\n",
    "    checkbox = widgets.Checkbox(value=False, description=f\"Peak {i+1}\", indent=False)\n",
    "    ppm_text_input = widgets.Text(placeholder=\"e.g., 2.5\", description=\"PPM Guess:\", disabled=True, layout=widgets.Layout(width='180px'), style={'description_width': '80px'})\n",
    "    height_text_input = widgets.Text(placeholder=\"e.g., 100\", description=\"Height Guess:\", disabled=True, layout=widgets.Layout(width='180px'), style={'description_width': '90px'})\n",
    "    color_picker = widgets.ColorPicker(concise=False, description='Color:', value=peak_colors_default[i % len(peak_colors_default)], disabled=True, layout=widgets.Layout(width='180px'), style={'description_width': '40px'})\n",
    "\n",
    "    widgets_to_toggle = [ppm_text_input, height_text_input, color_picker]\n",
    "    all_created_widgets.append({\n",
    "        'checkbox': checkbox, 'ppm_input': ppm_text_input, \n",
    "        'height_input': height_text_input, 'color_picker': color_picker,\n",
    "        'associated_controls': widgets_to_toggle\n",
    "    })\n",
    "\n",
    "    def create_observer_callback(controls_to_enable):\n",
    "        def on_checkbox_value_change(change):\n",
    "            for widget_to_update in controls_to_enable: # Renamed for clarity\n",
    "                widget_to_update.disabled = not change['new']\n",
    "        return on_checkbox_value_change\n",
    "\n",
    "    checkbox.observe(create_observer_callback(widgets_to_toggle), names='value')\n",
    "    \n",
    "    # Adjust HBox layout for better spacing and alignment\n",
    "    hbox_layout = widgets.Layout(justify_content='space-around', align_items='center', margin='3px 0', width='auto')\n",
    "    current_row_hbox = widgets.HBox([checkbox, ppm_text_input, height_text_input, color_picker], layout=hbox_layout)\n",
    "    fit_controls_vbox_elements.append(current_row_hbox)\n",
    "\n",
    "process_button = widgets.Button(description=\"Fit Selected Peaks\", button_style='success', icon='cogs', layout=widgets.Layout(width='auto', margin='10px 0 0 0'))\n",
    "output_area = widgets.Output()\n",
    "\n",
    "# --- Data Collection and Button Click Handler ---\n",
    "def get_initial_guesses_and_colors():\n",
    "    initial_params_list = []\n",
    "    selected_colors_for_plot = []\n",
    "    default_gamma_guess = 0.2\n",
    "\n",
    "    for i, row_widgets_dict in enumerate(all_created_widgets):\n",
    "        if row_widgets_dict['checkbox'].value:\n",
    "            try:\n",
    "                x0_str = row_widgets_dict['ppm_input'].value\n",
    "                A_str = row_widgets_dict['height_input'].value\n",
    "\n",
    "                x0_guess = float(x0_str)\n",
    "                A_guess = float(A_str)\n",
    "\n",
    "                # initial_params_list.append((A_guess, x0_guess, default_gamma_guess))\n",
    "                initial_params_list.append(A_guess)\n",
    "                initial_params_list.append(x0_guess)\n",
    "                initial_params_list.append(default_gamma_guess)\n",
    "                selected_colors_for_plot.append(row_widgets_dict['color_picker'].value)\n",
    "            except ValueError:\n",
    "                print(f\"🔴 Peak {i+1}: Invalid number format for PPM or Height guess. Please enter valid numbers. Skipping this peak.\")\n",
    "                continue\n",
    "                \n",
    "    return initial_params_list, selected_colors_for_plot\n",
    "\n",
    "def on_process_button_click(b):\n",
    "    with output_area:\n",
    "        clear_output(wait=True)\n",
    "\n",
    "        initial_params, peak_colors = get_initial_guesses_and_colors()\n",
    "\n",
    "        if not initial_params:\n",
    "            print(\"ℹ️ No valid peaks selected or valid guesses provided for fitting.\")\n",
    "            return\n",
    "\n",
    "        # print(f\"⚙️ Attempting to fit {len(initial_params)//3} selected peak(s)...\")\n",
    "        # print(f\"Initial guesses (A, x0, gamma_default=0.2): {initial_params}\")\n",
    "\n",
    "        ppm_guesses_in = []\n",
    "\n",
    "        for i in range(0,len(initial_params),3):\n",
    "            ppm_guesses_in.append(initial_params[i+1])\n",
    "        \n",
    "        individual_fits = fit_lorentzian_curves(ppm_axis, corrected_data, ppm_guesses_in)\n",
    "\n",
    "        plot_peak_fit_results(ppm_axis, corrected_data, individual_fits, peak_colors)\n",
    "        \n",
    "\n",
    "process_button.on_click(on_process_button_click)\n",
    "\n",
    "final_ui_elements = fit_controls_vbox_elements + [process_button, output_area]\n",
    "final_ui = widgets.VBox(final_ui_elements, layout=widgets.Layout(padding='10px'))\n"
   ]
  },
  {
   "cell_type": "code",
   "execution_count": 75,
   "metadata": {},
   "outputs": [
    {
     "data": {
      "application/vnd.jupyter.widget-view+json": {
       "model_id": "269b70de7ba7475ea29cc7630705edb1",
       "version_major": 2,
       "version_minor": 0
      },
      "text/plain": [
       "VBox(children=(HBox(children=(Checkbox(value=False, description='Peak 1', indent=False), Text(value='', descri…"
      ]
     },
     "metadata": {},
     "output_type": "display_data"
    }
   ],
   "source": [
    "display(final_ui)"
   ]
  }
 ],
 "metadata": {
  "kernelspec": {
   "display_name": "penv",
   "language": "python",
   "name": "python3"
  },
  "language_info": {
   "codemirror_mode": {
    "name": "ipython",
    "version": 3
   },
   "file_extension": ".py",
   "mimetype": "text/x-python",
   "name": "python",
   "nbconvert_exporter": "python",
   "pygments_lexer": "ipython3",
   "version": "3.7.16"
  }
 },
 "nbformat": 4,
 "nbformat_minor": 2
}
