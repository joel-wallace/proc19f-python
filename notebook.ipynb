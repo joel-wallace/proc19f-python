{
 "cells": [
  {
   "cell_type": "markdown",
   "metadata": {},
   "source": [
    "## Process 19F NMR spectra\n",
    "#### You need:\n",
    "- The data from the spectrometer\n",
    "#### You will:\n",
    "1) Import the 1H Bruker data\n",
    "2) Use the 1H spectrum to reference\n",
    "3) Import the 19F Bruker data\n",
    "    - Optionally sum multiple spectra into a single spectrum\n",
    "4) Baseline the spectrum by fitting a fourth-order polynomial\n",
    "5) Fit a Lorentzian function to each peak\n",
    "6) Produce a plot"
   ]
  },
  {
   "cell_type": "markdown",
   "metadata": {},
   "source": [
    "Firstly you need to make sure that Python and the required libraries are installed.\n",
    "\n",
    "To install Python (latest version): \n",
    "- Mac https://www.python.org/downloads/macos/\n",
    "- Windows https://www.python.org/downloads/windows/\n",
    "\n",
    "To install the libraries type this in your terminal:\n",
    "`pip install numpy matplotlib scipy nmrglue`\n",
    "\n",
    "Now you can import the libraries by clicking the arrow to the left of the cell below"
   ]
  },
  {
   "cell_type": "code",
   "execution_count": 2,
   "metadata": {},
   "outputs": [
    {
     "name": "stdout",
     "output_type": "stream",
     "text": [
      "Import OK\n"
     ]
    }
   ],
   "source": [
    "# Import libraries\n",
    "import nmrglue as ng # This is for processing the Bruker data\n",
    "import matplotlib.pyplot as plt # This is for making the plots\n",
    "import numpy as np # This is for polynomial fitting\n",
    "from scipy.optimize import curve_fit # This is for Lorentzian fitting\n",
    "print(\"Import OK\")"
   ]
  },
  {
   "cell_type": "markdown",
   "metadata": {},
   "source": [
    "If the libraries imported OK, you can proceed.\n",
    "\n",
    "Now you will import your 1H spectrum for referencing. \n",
    "- Locate the NMR data on your computer\n",
    "- The first experiment, folder `1`, contains the acquisition data\n",
    "- The data is stored in a file called `fid` with no extension\n",
    "- Provide the path to folder `1` in the cell below. Do not delete the quotation marks\n",
    "- Run the cell\n",
    "\n",
    "To get the path, right-click the folder in Finder/File explorer, then hold Option/Shift and click `Copy pathname`"
   ]
  }
 ],
 "metadata": {
  "kernelspec": {
   "display_name": "Python 3",
   "language": "python",
   "name": "python3"
  },
  "language_info": {
   "codemirror_mode": {
    "name": "ipython",
    "version": 3
   },
   "file_extension": ".py",
   "mimetype": "text/x-python",
   "name": "python",
   "nbconvert_exporter": "python",
   "pygments_lexer": "ipython3",
   "version": "3.12.0"
  }
 },
 "nbformat": 4,
 "nbformat_minor": 2
}
